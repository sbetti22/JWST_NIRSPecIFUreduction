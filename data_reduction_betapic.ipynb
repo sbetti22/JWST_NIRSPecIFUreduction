{
 "cells": [
  {
   "cell_type": "markdown",
   "id": "99f8e06a",
   "metadata": {},
   "source": [
    "# Data Reduction for JWST NIRSpec IFU mosaiced data \n",
    "\n",
    "- Step 1: run raw data through the jwst data reduction pipeline to create a clean mosaiced image of the science and reference target. \n",
    "\n",
    "- Step 2: center the science and reference target to each other and create bad pixel masks. \n",
    "\n",
    "- Step 3: run Reference Differential Imaging to remove central star (Disk = (Star+Disk) - Ref.Star)\n",
    "\n",
    "- Step 4: model the disk to determine the best fit model, necessary for throughput correction. \n",
    "\n",
    "written by: Sarah Betti, 2024"
   ]
  },
  {
   "cell_type": "code",
   "execution_count": null,
   "id": "775f0630",
   "metadata": {},
   "outputs": [],
   "source": [
    "from preprocessing import *\n",
    "from centering import *\n",
    "from make_disk_mask import *\n",
    "from PSF_subtraction import *\n",
    "from TP_diskmodeling_DiffEvo import *"
   ]
  },
  {
   "cell_type": "markdown",
   "id": "87fae04b",
   "metadata": {},
   "source": [
    "Step 1: \n",
    "Run the JWST Pipeline reduction.  This does Stages 1-3 with NSCLEAN! "
   ]
  },
  {
   "cell_type": "code",
   "execution_count": null,
   "id": "7130d708",
   "metadata": {},
   "outputs": [],
   "source": [
    "# preprocessing.py\n",
    "dir_name='/Users/sbetti/Documents/Science/datasets/JWST/betaPic_NIRSpec/raw/beta_pic'\n",
    "output_dir_name='/Users/sbetti/Documents/Science/datasets/JWST/betaPic_NIRSpec'\n",
    "    \n",
    "run_preproceessing(dir_name, output_dir_name, verbose=True)\n"
   ]
  },
  {
   "cell_type": "markdown",
   "id": "66bc69c7",
   "metadata": {},
   "source": [
    "Step 2: center the science and reference image.  \n",
    "It will output aligned sci and ref cubes as centering/sci_centered.fits and centering/ref_centered.fits\n"
   ]
  },
  {
   "cell_type": "code",
   "execution_count": null,
   "id": "53020e3a",
   "metadata": {},
   "outputs": [],
   "source": [
    "# centering.py\n",
    "dir_name = '/Users/sbetti/Documents/Science/datasets/JWST/betaPic_NIRSpec/data_reduction/'\n",
    "savepath = '/Users/sbetti/Desktop/'\n",
    "y_center = 66 \n",
    "x_center = 66 \n",
    "\n",
    "new_img_size_x = 132\n",
    "new_img_size_y = 132\n",
    "filter_size = 25\n",
    "channel_longest = 4 # use only the first four becuase of the severe saturation \n",
    "sci_file_name = 'sci_newoutput_prism-clear_s3d.fits'\n",
    "ref_file_name = 'ref_newoutput_prism-clear_s3d.fits'\n",
    "aligned_sci_cube, aligned_ref_cube_rotated = run_centering(dir_name, sci_file_name, ref_file_name, \n",
    "                  x_center, y_center, \n",
    "                  new_img_size_x, new_img_size_y, \n",
    "                  filter_size, channel_longest)"
   ]
  },
  {
   "cell_type": "markdown",
   "id": "3860f51b",
   "metadata": {},
   "source": [
    "Step 3: \n",
    "making disk masks: \n",
    "The disk mask was made by using the ds9 region. \n",
    "By using the polygon region shape, I manually drew the mask region and then ran run_make_mask to make the mask. \n"
   ]
  },
  {
   "cell_type": "code",
   "execution_count": null,
   "id": "0ffbe9aa",
   "metadata": {},
   "outputs": [],
   "source": [
    "# make_disk_mask.py\n",
    "path_initial = '/Users/sbetti/Documents/Science/datasets/JWST/betaPic_NIRSpec/data_reduction/'\n",
    "sci_file_name = 'sci_cube_expand_betapic_aligned.fits'\n",
    "run_make_mask(dir_name, sci_file_name, plot=False)"
   ]
  },
  {
   "cell_type": "markdown",
   "id": "875f85a0",
   "metadata": {},
   "source": [
    "Step 4:\n",
    "After creating the necessary disk masks, we can perform the RDI PSF subtraction. \n",
    "This gives RDI reduction.  NO throughput correction.\n",
    "This is done twice!  Once to get wavelength dependent f_RDI, then take average. \n",
    "This will output psf_subtraction/RDI_sci_JWST_NIRSpec.fits"
   ]
  },
  {
   "cell_type": "code",
   "execution_count": null,
   "id": "c331e160",
   "metadata": {},
   "outputs": [],
   "source": [
    "# PSF_subtraction.py\n",
    "dir_name = '/Users/sbetti/Desktop/'\n",
    "inner_mask_radius = 15 # HD 181327\n",
    "outer_mask_radius = 68\n",
    "y_center = 66 \n",
    "x_center = 66\n",
    "sci_file_name = 'sci_newoutput_prism-clear_s3d.fits'\n",
    "run_PSFsubtraction(dir_name, inner_mask_radius, outer_mask_radius, x_center, y_center, sci_file_name)"
   ]
  },
  {
   "cell_type": "markdown",
   "id": "a77ce9d8",
   "metadata": {},
   "source": [
    "Step 6: Disk model\n",
    "After creating the necessary disk masks, we can calculate the disk model to determine throughput correction. \n",
    "This creates a disk model, inserts it, and minimizes the residuals using differential evolution. \n",
    "-This produces an .hdf5 file and .fits file of the best fit cube, residuals, and parameters.\n",
    "- This is done twice!  Once to get wavelength dependent f_RDI, then take average. Rerun using the average f_RDI.  \n",
    "\n",
    "The final disk model is disk_modeling/bestfit_cube_f{X.XX}.fits"
   ]
  },
  {
   "cell_type": "code",
   "execution_count": null,
   "id": "6d8b9cb0",
   "metadata": {},
   "outputs": [],
   "source": [
    "dstar= 19.44 # distance to the star in pc\n",
    "itilt = 89.5 # inclination of your disk in degrees\n",
    "pixel_scale=0.1 # pixel scale in arcsec/px\n",
    "posang = -7.22\n",
    "ain = 0.5\n",
    "aout = -1.5\n",
    "a = 120 #semi-major axis\n",
    "ksi0 = 5.1 # reference scale height at the semi-major axis of the disk\n",
    "gamma = 0.5 # exponant of the vertical exponential decay\n",
    "beta = 1\n",
    "\n",
    "dir_name = '/Users/sbetti/Desktop/'\n",
    "sci_filename = 'sci_centered.fits'\n",
    "ref_filename = 'ref_centered.fits'\n",
    "cube_sci_filename = 'sci_newoutput_prism-clear_s3d.fits'\n",
    "mask_spike = 'spike_mask.fits'\n",
    "mask_2D = 'disk_mask_0_1_2D_2.fits'\n",
    "mask_cube = 'mask_cube.fits'\n",
    "mask_disk_FoV = 'IFU_align_FoV_extra_spike.fits'\n",
    "y_center = 66 \n",
    "x_center = 66\n",
    "\n",
    "bounds = [(100, 8000),(0.1,0.8)]\n",
    "run_diskmodeling(dir_name, sci_filename, ref_filename, cube_sci_filename, mask_spike, mask_2D, mask_cube,mask_disk_FoV, \n",
    "                    x_center, y_center, bounds, \n",
    "                    dstar, itilt, pixel_scale, posang, a, ain, aout, ksi0, gamma, beta)"
   ]
  }
 ],
 "metadata": {
  "kernelspec": {
   "display_name": "spaceklip",
   "language": "python",
   "name": "spaceklip"
  },
  "language_info": {
   "codemirror_mode": {
    "name": "ipython",
    "version": 3
   },
   "file_extension": ".py",
   "mimetype": "text/x-python",
   "name": "python",
   "nbconvert_exporter": "python",
   "pygments_lexer": "ipython3",
   "version": "3.10.12"
  }
 },
 "nbformat": 4,
 "nbformat_minor": 5
}
