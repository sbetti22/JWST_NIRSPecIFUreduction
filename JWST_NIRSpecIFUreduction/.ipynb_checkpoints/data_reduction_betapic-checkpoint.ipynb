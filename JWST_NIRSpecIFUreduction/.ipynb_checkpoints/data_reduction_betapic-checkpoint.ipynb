{
 "cells": [
  {
   "cell_type": "markdown",
   "id": "4c1facfd",
   "metadata": {},
   "source": [
    "# Data Reduction for JWST NIRSpec IFU mosaiced data \n",
    "\n",
    "- Step 1: run raw data through the jwst data reduction pipeline to create a clean mosaiced image of the science and reference target. \n",
    "\n",
    "- Step 2: center the science and reference target to each other and create bad pixel masks. \n",
    "\n",
    "- Step 3: run Reference Differential Imaging to remove central star (Disk = (Star+Disk) - Ref.Star)\n",
    "\n",
    "- Step 4: model the disk to determine the best fit model, necessary for throughput correction. \n",
    "\n",
    "written by: Sarah Betti, 2024"
   ]
  },
  {
   "cell_type": "code",
   "execution_count": 1,
   "id": "e958e9a2",
   "metadata": {},
   "outputs": [
    {
     "name": "stdout",
     "output_type": "stream",
     "text": [
      "VIP version:  1.5.3\n"
     ]
    }
   ],
   "source": [
    "\n",
    "from JWST_NIRSPecIFUreduction import *\n"
   ]
  },
  {
   "cell_type": "markdown",
   "id": "9e485514",
   "metadata": {},
   "source": [
    "## Step 1: Run the JWST Pipeline reduction. \n",
    "This does Stages 1-3 with NSCLEAN! \n",
    "- Step 1.1 will save slope images in ```<output_dir_name>/slope_images/```\n",
    "- Step 1.2 will save calibration images in ```<output_dir_name>/cal_images/```\n",
    "- Step 1.3 will save final cube images in ```<output_dir_name>/cube_images/```"
   ]
  },
  {
   "cell_type": "code",
   "execution_count": 5,
   "id": "a3e7c64b",
   "metadata": {},
   "outputs": [],
   "source": [
    "\n",
    "dir_name='/Users/sbetti/Documents/Science/datasets/JWST/betaPic_NIRSpec/raw/'\n",
    "output_dir_name='/Users/sbetti/Documents/Science/datasets/JWST/betaPic_NIRSpec/data_reduction/'\n",
    "    \n",
    "preprocessing.run_preproceessing(dir_name, output_dir_name)\n"
   ]
  },
  {
   "cell_type": "markdown",
   "id": "e8b066e8",
   "metadata": {},
   "source": [
    "## Step 2: center the science and reference image.  \n",
    "It will output aligned sci and ref cubes as ```<dir_name>/centering/sci_centered.fits``` and ```<dir_name>/centering/ref_centered.fits```\n"
   ]
  },
  {
   "cell_type": "code",
   "execution_count": 7,
   "id": "a7882ffc",
   "metadata": {},
   "outputs": [],
   "source": [
    "\n",
    "dir_name = '/Users/sbetti/Documents/Science/datasets/JWST/betaPic_NIRSpec/data_reduction/'\n",
    "y_center = 66 \n",
    "x_center = 66 \n",
    "new_img_size_x = 132\n",
    "new_img_size_y = 132\n",
    "filter_size = 25\n",
    "channel_longest = 4 # use only the first four becuase of the severe saturation \n",
    "sci_file_name = 'sci_newoutput_prism-clear_s3d.fits'\n",
    "ref_file_name = 'ref_newoutput_prism-clear_s3d.fits'\n",
    "\n",
    "aligned_sci_cube, aligned_ref_cube_rotated = centering.run_centering(dir_name, sci_file_name, ref_file_name, \n",
    "                  x_center, y_center, \n",
    "                  new_img_size_x, new_img_size_y, \n",
    "                  filter_size, channel_longest)"
   ]
  },
  {
   "cell_type": "markdown",
   "id": "2e61605f",
   "metadata": {},
   "source": [
    "# Step 3: making disk masks\n",
    "The disk mask was made by using the ds9 region. \n",
    "By using the polygon region shape, I manually drew the mask region and then ran ```run_make_mask``` to make the mask. The masks will be saved in ```<dir_name>/mask/```\n"
   ]
  },
  {
   "cell_type": "code",
   "execution_count": 9,
   "id": "3a493fa8",
   "metadata": {},
   "outputs": [],
   "source": [
    "\n",
    "dir_name = '/Users/sbetti/Documents/Science/datasets/JWST/betaPic_NIRSpec/data_reduction/'\n",
    "sci_file_name = 'sci_cube_expand_betapic_aligned.fits'\n",
    "make_disk_mask.run_make_mask(dir_name, sci_file_name, plot=True)"
   ]
  },
  {
   "cell_type": "markdown",
   "id": "7147300b",
   "metadata": {},
   "source": [
    "# Step 4: RDI PSF subtraction\n",
    "After creating the necessary disk masks, we can perform the RDI PSF subtraction. \n",
    "This gives RDI reduction.  NO throughput correction.\n",
    "This is done twice!  Once to get wavelength dependent f_RDI, then take average. \n",
    "This will output ```<dir_name>/psf_subtraction/RDI_sci_JWST_NIRSpec.fits```"
   ]
  },
  {
   "cell_type": "code",
   "execution_count": 12,
   "id": "84fe2343",
   "metadata": {},
   "outputs": [],
   "source": [
    "# PSF_subtraction.py\n",
    "dir_name = '/Users/sbetti/Documents/Science/datasets/JWST/betaPic_NIRSpec/data_reduction/'\n",
    "inner_mask_radius = 15 \n",
    "outer_mask_radius = 68\n",
    "y_center = 66 \n",
    "x_center = 66\n",
    "cube_sci_filename = 'sci_newoutput_prism-clear_s3d.fits'\n",
    "PSF_subtraction.run_PSFsubtraction(dir_name, inner_mask_radius, outer_mask_radius,\n",
    "                                   x_center, y_center, cube_sci_filename)"
   ]
  },
  {
   "cell_type": "markdown",
   "id": "3f84c272",
   "metadata": {},
   "source": [
    "Step 5: Disk modeling\n",
    "After creating the necessary disk masks, we can calculate the disk model to determine throughput correction. \n",
    "This creates a disk model, inserts it, and minimizes the residuals using differential evolution. \n",
    "-This produces an ```.hdf5``` file and ```.fits``` file of the best fit cube, residuals, and parameters.\n",
    "- This is done twice!  Once to get wavelength dependent f_RDI, then take average. Rerun using the average f_RDI.  \n",
    "\n",
    "The final disk model is ```<dir_name>/disk_modeling/bestfit_cube_f{X.XX}.fits```"
   ]
  },
  {
   "cell_type": "code",
   "execution_count": 11,
   "id": "f85785bd",
   "metadata": {},
   "outputs": [],
   "source": [
    "dstar= 19.44 # distance to the star in pc\n",
    "itilt = 89.5 # inclination of your disk in degrees\n",
    "pixel_scale=0.1 # pixel scale in arcsec/px\n",
    "posang = -7.22 # position angle\n",
    "ain = 0.5 \n",
    "aout = -1.5\n",
    "a = 120 #semi-major axis\n",
    "ksi0 = 5.1 # reference scale height at the semi-major axis of the disk\n",
    "gamma = 0.5 # exponant of the vertical exponential decay\n",
    "beta = 1 #flaring \n",
    "\n",
    "dir_name = '/Users/sbetti/Documents/Science/datasets/JWST/betaPic_NIRSpec/data_reduction/'\n",
    "sci_filename = 'sci_centered.fits'\n",
    "ref_filename = 'ref_centered.fits'\n",
    "cube_sci_filename = 'sci_newoutput_prism-clear_s3d.fits'\n",
    "mask_spike = 'spike_mask.fits'\n",
    "mask_2D = 'disk_mask_0_1_2D_2.fits'\n",
    "mask_cube = 'mask_cube.fits'\n",
    "mask_disk_FoV = 'IFU_align_FoV_extra_spike.fits'\n",
    "y_center = 66 \n",
    "x_center = 66\n",
    "\n",
    "bounds = [(100, 8000),(0.1,0.8)] # amplitude, g\n",
    "diskmodeling_diffevo.run_diskmodeling(dir_name, sci_filename, ref_filename, cube_sci_filename, \n",
    "                                      mask_spike, mask_2D, mask_cube,mask_disk_FoV, \n",
    "                                      x_center, y_center, bounds, \n",
    "                                      dstar, itilt, pixel_scale, posang, a, ain, aout, ksi0, gamma, beta)"
   ]
  },
  {
   "cell_type": "code",
   "execution_count": null,
   "id": "34ccb168",
   "metadata": {},
   "outputs": [],
   "source": []
  }
 ],
 "metadata": {
  "kernelspec": {
   "display_name": "spaceklip",
   "language": "python",
   "name": "spaceklip"
  },
  "language_info": {
   "codemirror_mode": {
    "name": "ipython",
    "version": 3
   },
   "file_extension": ".py",
   "mimetype": "text/x-python",
   "name": "python",
   "nbconvert_exporter": "python",
   "pygments_lexer": "ipython3",
   "version": "3.10.12"
  }
 },
 "nbformat": 4,
 "nbformat_minor": 5
}
